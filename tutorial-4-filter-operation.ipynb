{
 "cells": [
  {
   "cell_type": "markdown",
   "id": "e16d4f81",
   "metadata": {
    "papermill": {
     "duration": 0.004292,
     "end_time": "2023-07-29T20:50:05.158153",
     "exception": false,
     "start_time": "2023-07-29T20:50:05.153861",
     "status": "completed"
    },
    "tags": []
   },
   "source": [
    "### Pyspark Dataframes\n",
    "- Filter Operation\n",
    "- &,|,==\n",
    "- ~"
   ]
  },
  {
   "cell_type": "code",
   "execution_count": 1,
   "id": "21a7ffb3",
   "metadata": {
    "execution": {
     "iopub.execute_input": "2023-07-29T20:50:05.167161Z",
     "iopub.status.busy": "2023-07-29T20:50:05.166754Z",
     "iopub.status.idle": "2023-07-29T20:50:43.010369Z",
     "shell.execute_reply": "2023-07-29T20:50:43.009052Z"
    },
    "papermill": {
     "duration": 37.851781,
     "end_time": "2023-07-29T20:50:43.013657",
     "exception": false,
     "start_time": "2023-07-29T20:50:05.161876",
     "status": "completed"
    },
    "tags": []
   },
   "outputs": [
    {
     "name": "stdout",
     "output_type": "stream",
     "text": [
      "Collecting pyspark\r\n",
      "  Downloading pyspark-3.4.1.tar.gz (310.8 MB)\r\n",
      "\u001b[2K     \u001b[90m━━━━━━━━━━━━━━━━━━━━━━━━━━━━━━━━━━━━━━━\u001b[0m \u001b[32m310.8/310.8 MB\u001b[0m \u001b[31m4.4 MB/s\u001b[0m eta \u001b[36m0:00:00\u001b[0m\r\n",
      "\u001b[?25h  Preparing metadata (setup.py) ... \u001b[?25l-\b \b\\\b \bdone\r\n",
      "\u001b[?25hRequirement already satisfied: py4j==0.10.9.7 in /opt/conda/lib/python3.10/site-packages (from pyspark) (0.10.9.7)\r\n",
      "Building wheels for collected packages: pyspark\r\n",
      "  Building wheel for pyspark (setup.py) ... \u001b[?25l-\b \b\\\b \b|\b \b/\b \b-\b \b\\\b \b|\b \b/\b \b-\b \b\\\b \b|\b \bdone\r\n",
      "\u001b[?25h  Created wheel for pyspark: filename=pyspark-3.4.1-py2.py3-none-any.whl size=311285413 sha256=13a28f451b5e6ca7d93986844c0177ace572c80e6088d7765eb4f2202bcae0d7\r\n",
      "  Stored in directory: /root/.cache/pip/wheels/0d/77/a3/ff2f74cc9ab41f8f594dabf0579c2a7c6de920d584206e0834\r\n",
      "Successfully built pyspark\r\n",
      "Installing collected packages: pyspark\r\n",
      "Successfully installed pyspark-3.4.1\r\n"
     ]
    }
   ],
   "source": [
    "!pip install pyspark"
   ]
  },
  {
   "cell_type": "code",
   "execution_count": 2,
   "id": "6f03481c",
   "metadata": {
    "execution": {
     "iopub.execute_input": "2023-07-29T20:50:43.034321Z",
     "iopub.status.busy": "2023-07-29T20:50:43.033973Z",
     "iopub.status.idle": "2023-07-29T20:50:43.101691Z",
     "shell.execute_reply": "2023-07-29T20:50:43.100769Z"
    },
    "papermill": {
     "duration": 0.080884,
     "end_time": "2023-07-29T20:50:43.104138",
     "exception": false,
     "start_time": "2023-07-29T20:50:43.023254",
     "status": "completed"
    },
    "tags": []
   },
   "outputs": [],
   "source": [
    "import pyspark"
   ]
  },
  {
   "cell_type": "code",
   "execution_count": 3,
   "id": "a099cadb",
   "metadata": {
    "execution": {
     "iopub.execute_input": "2023-07-29T20:50:43.124164Z",
     "iopub.status.busy": "2023-07-29T20:50:43.123796Z",
     "iopub.status.idle": "2023-07-29T20:50:43.129389Z",
     "shell.execute_reply": "2023-07-29T20:50:43.128124Z"
    },
    "papermill": {
     "duration": 0.018455,
     "end_time": "2023-07-29T20:50:43.131924",
     "exception": false,
     "start_time": "2023-07-29T20:50:43.113469",
     "status": "completed"
    },
    "tags": []
   },
   "outputs": [],
   "source": [
    "from pyspark.sql import SparkSession"
   ]
  },
  {
   "cell_type": "code",
   "execution_count": 4,
   "id": "1aec057c",
   "metadata": {
    "execution": {
     "iopub.execute_input": "2023-07-29T20:50:43.153836Z",
     "iopub.status.busy": "2023-07-29T20:50:43.153479Z",
     "iopub.status.idle": "2023-07-29T20:50:47.879340Z",
     "shell.execute_reply": "2023-07-29T20:50:47.878252Z"
    },
    "papermill": {
     "duration": 4.740804,
     "end_time": "2023-07-29T20:50:47.882472",
     "exception": false,
     "start_time": "2023-07-29T20:50:43.141668",
     "status": "completed"
    },
    "tags": []
   },
   "outputs": [
    {
     "name": "stderr",
     "output_type": "stream",
     "text": [
      "Setting default log level to \"WARN\".\n",
      "To adjust logging level use sc.setLogLevel(newLevel). For SparkR, use setLogLevel(newLevel).\n",
      "23/07/29 20:50:46 WARN NativeCodeLoader: Unable to load native-hadoop library for your platform... using builtin-java classes where applicable\n"
     ]
    }
   ],
   "source": [
    "spark=SparkSession.builder.appName('dataframe').getOrCreate()"
   ]
  },
  {
   "cell_type": "code",
   "execution_count": 5,
   "id": "998ecea8",
   "metadata": {
    "execution": {
     "iopub.execute_input": "2023-07-29T20:50:47.910598Z",
     "iopub.status.busy": "2023-07-29T20:50:47.910218Z",
     "iopub.status.idle": "2023-07-29T20:50:53.579205Z",
     "shell.execute_reply": "2023-07-29T20:50:53.578367Z"
    },
    "papermill": {
     "duration": 5.684675,
     "end_time": "2023-07-29T20:50:53.581280",
     "exception": false,
     "start_time": "2023-07-29T20:50:47.896605",
     "status": "completed"
    },
    "tags": []
   },
   "outputs": [
    {
     "name": "stdout",
     "output_type": "stream",
     "text": [
      "+---------+---+----------+------+\n",
      "|     Name|age|Experience|Salary|\n",
      "+---------+---+----------+------+\n",
      "|    Krish| 31|        10| 30000|\n",
      "|Sudhanshu| 30|         8| 25000|\n",
      "|    Sunny| 29|         4| 20000|\n",
      "|     Paul| 24|         3| 20000|\n",
      "|   Harsha| 21|         1| 15000|\n",
      "|  Shubham| 23|         2| 18000|\n",
      "+---------+---+----------+------+\n",
      "\n"
     ]
    }
   ],
   "source": [
    "df_pyspark=spark.read.csv('/kaggle/input/pyspark-sample/test1.csv',header=True,inferSchema=True)\n",
    "df_pyspark.show()"
   ]
  },
  {
   "cell_type": "markdown",
   "id": "d73a1581",
   "metadata": {
    "papermill": {
     "duration": 0.013789,
     "end_time": "2023-07-29T20:50:53.608280",
     "exception": false,
     "start_time": "2023-07-29T20:50:53.594491",
     "status": "completed"
    },
    "tags": []
   },
   "source": [
    "### Filter Operations"
   ]
  },
  {
   "cell_type": "code",
   "execution_count": 6,
   "id": "0a6c07cc",
   "metadata": {
    "execution": {
     "iopub.execute_input": "2023-07-29T20:50:53.635725Z",
     "iopub.status.busy": "2023-07-29T20:50:53.635345Z",
     "iopub.status.idle": "2023-07-29T20:50:53.897788Z",
     "shell.execute_reply": "2023-07-29T20:50:53.896496Z"
    },
    "papermill": {
     "duration": 0.278735,
     "end_time": "2023-07-29T20:50:53.900187",
     "exception": false,
     "start_time": "2023-07-29T20:50:53.621452",
     "status": "completed"
    },
    "tags": []
   },
   "outputs": [
    {
     "name": "stdout",
     "output_type": "stream",
     "text": [
      "+-------+---+----------+------+\n",
      "|   Name|age|Experience|Salary|\n",
      "+-------+---+----------+------+\n",
      "|  Sunny| 29|         4| 20000|\n",
      "|   Paul| 24|         3| 20000|\n",
      "| Harsha| 21|         1| 15000|\n",
      "|Shubham| 23|         2| 18000|\n",
      "+-------+---+----------+------+\n",
      "\n"
     ]
    }
   ],
   "source": [
    "### Salary of the people less than or equal to 20000\n",
    "df_pyspark.filter(\"Salary<=20000\").show()"
   ]
  },
  {
   "cell_type": "code",
   "execution_count": 7,
   "id": "b73b1d41",
   "metadata": {
    "execution": {
     "iopub.execute_input": "2023-07-29T20:50:53.928240Z",
     "iopub.status.busy": "2023-07-29T20:50:53.927316Z",
     "iopub.status.idle": "2023-07-29T20:50:54.153206Z",
     "shell.execute_reply": "2023-07-29T20:50:54.152473Z"
    },
    "papermill": {
     "duration": 0.242383,
     "end_time": "2023-07-29T20:50:54.155391",
     "exception": false,
     "start_time": "2023-07-29T20:50:53.913008",
     "status": "completed"
    },
    "tags": []
   },
   "outputs": [
    {
     "name": "stdout",
     "output_type": "stream",
     "text": [
      "+-------+---+\n",
      "|   Name|age|\n",
      "+-------+---+\n",
      "|  Sunny| 29|\n",
      "|   Paul| 24|\n",
      "| Harsha| 21|\n",
      "|Shubham| 23|\n",
      "+-------+---+\n",
      "\n"
     ]
    }
   ],
   "source": [
    "df_pyspark.filter(\"Salary<=20000\").select(['Name','age']).show()"
   ]
  },
  {
   "cell_type": "code",
   "execution_count": 8,
   "id": "a5e539e2",
   "metadata": {
    "execution": {
     "iopub.execute_input": "2023-07-29T20:50:54.183187Z",
     "iopub.status.busy": "2023-07-29T20:50:54.182788Z",
     "iopub.status.idle": "2023-07-29T20:50:54.349539Z",
     "shell.execute_reply": "2023-07-29T20:50:54.348651Z"
    },
    "papermill": {
     "duration": 0.183205,
     "end_time": "2023-07-29T20:50:54.351747",
     "exception": false,
     "start_time": "2023-07-29T20:50:54.168542",
     "status": "completed"
    },
    "tags": []
   },
   "outputs": [
    {
     "name": "stdout",
     "output_type": "stream",
     "text": [
      "+-------+---+----------+------+\n",
      "|   Name|age|Experience|Salary|\n",
      "+-------+---+----------+------+\n",
      "|  Sunny| 29|         4| 20000|\n",
      "|   Paul| 24|         3| 20000|\n",
      "| Harsha| 21|         1| 15000|\n",
      "|Shubham| 23|         2| 18000|\n",
      "+-------+---+----------+------+\n",
      "\n"
     ]
    }
   ],
   "source": [
    "df_pyspark.filter(df_pyspark['Salary']<=20000).show()"
   ]
  },
  {
   "cell_type": "code",
   "execution_count": 9,
   "id": "3e0c660c",
   "metadata": {
    "execution": {
     "iopub.execute_input": "2023-07-29T20:50:54.383229Z",
     "iopub.status.busy": "2023-07-29T20:50:54.382912Z",
     "iopub.status.idle": "2023-07-29T20:50:54.563416Z",
     "shell.execute_reply": "2023-07-29T20:50:54.561972Z"
    },
    "papermill": {
     "duration": 0.197047,
     "end_time": "2023-07-29T20:50:54.565359",
     "exception": false,
     "start_time": "2023-07-29T20:50:54.368312",
     "status": "completed"
    },
    "tags": []
   },
   "outputs": [
    {
     "name": "stdout",
     "output_type": "stream",
     "text": [
      "+---------+---+----------+------+\n",
      "|     Name|age|Experience|Salary|\n",
      "+---------+---+----------+------+\n",
      "|    Krish| 31|        10| 30000|\n",
      "|Sudhanshu| 30|         8| 25000|\n",
      "|    Sunny| 29|         4| 20000|\n",
      "|     Paul| 24|         3| 20000|\n",
      "|   Harsha| 21|         1| 15000|\n",
      "|  Shubham| 23|         2| 18000|\n",
      "+---------+---+----------+------+\n",
      "\n"
     ]
    }
   ],
   "source": [
    "df_pyspark.filter((df_pyspark['Salary']<=20000) | \n",
    "                  (df_pyspark['Salary']>=15000)).show()"
   ]
  },
  {
   "cell_type": "code",
   "execution_count": 10,
   "id": "915a33a5",
   "metadata": {
    "execution": {
     "iopub.execute_input": "2023-07-29T20:50:54.586931Z",
     "iopub.status.busy": "2023-07-29T20:50:54.586621Z",
     "iopub.status.idle": "2023-07-29T20:50:54.758812Z",
     "shell.execute_reply": "2023-07-29T20:50:54.757870Z"
    },
    "papermill": {
     "duration": 0.18557,
     "end_time": "2023-07-29T20:50:54.760953",
     "exception": false,
     "start_time": "2023-07-29T20:50:54.575383",
     "status": "completed"
    },
    "tags": []
   },
   "outputs": [
    {
     "name": "stdout",
     "output_type": "stream",
     "text": [
      "+---------+---+----------+------+\n",
      "|     Name|age|Experience|Salary|\n",
      "+---------+---+----------+------+\n",
      "|    Krish| 31|        10| 30000|\n",
      "|Sudhanshu| 30|         8| 25000|\n",
      "+---------+---+----------+------+\n",
      "\n"
     ]
    }
   ],
   "source": [
    "df_pyspark.filter(~(df_pyspark['Salary']<=20000)).show()"
   ]
  },
  {
   "cell_type": "code",
   "execution_count": null,
   "id": "17d87447",
   "metadata": {
    "papermill": {
     "duration": 0.0125,
     "end_time": "2023-07-29T20:50:54.786642",
     "exception": false,
     "start_time": "2023-07-29T20:50:54.774142",
     "status": "completed"
    },
    "tags": []
   },
   "outputs": [],
   "source": []
  },
  {
   "cell_type": "code",
   "execution_count": null,
   "id": "45514066",
   "metadata": {
    "papermill": {
     "duration": 0.012418,
     "end_time": "2023-07-29T20:50:54.811702",
     "exception": false,
     "start_time": "2023-07-29T20:50:54.799284",
     "status": "completed"
    },
    "tags": []
   },
   "outputs": [],
   "source": []
  },
  {
   "cell_type": "code",
   "execution_count": null,
   "id": "dd7251f2",
   "metadata": {
    "papermill": {
     "duration": 0.013777,
     "end_time": "2023-07-29T20:50:54.839243",
     "exception": false,
     "start_time": "2023-07-29T20:50:54.825466",
     "status": "completed"
    },
    "tags": []
   },
   "outputs": [],
   "source": []
  },
  {
   "cell_type": "code",
   "execution_count": null,
   "id": "6afafe3f",
   "metadata": {
    "papermill": {
     "duration": 0.014135,
     "end_time": "2023-07-29T20:50:54.868494",
     "exception": false,
     "start_time": "2023-07-29T20:50:54.854359",
     "status": "completed"
    },
    "tags": []
   },
   "outputs": [],
   "source": []
  },
  {
   "cell_type": "code",
   "execution_count": null,
   "id": "620deb61",
   "metadata": {
    "papermill": {
     "duration": 0.013383,
     "end_time": "2023-07-29T20:50:54.897765",
     "exception": false,
     "start_time": "2023-07-29T20:50:54.884382",
     "status": "completed"
    },
    "tags": []
   },
   "outputs": [],
   "source": []
  },
  {
   "cell_type": "code",
   "execution_count": null,
   "id": "35326340",
   "metadata": {
    "papermill": {
     "duration": 0.009433,
     "end_time": "2023-07-29T20:50:54.917196",
     "exception": false,
     "start_time": "2023-07-29T20:50:54.907763",
     "status": "completed"
    },
    "tags": []
   },
   "outputs": [],
   "source": []
  }
 ],
 "metadata": {
  "kernelspec": {
   "display_name": "Python 3",
   "language": "python",
   "name": "python3"
  },
  "language_info": {
   "codemirror_mode": {
    "name": "ipython",
    "version": 3
   },
   "file_extension": ".py",
   "mimetype": "text/x-python",
   "name": "python",
   "nbconvert_exporter": "python",
   "pygments_lexer": "ipython3",
   "version": "3.10.12"
  },
  "papermill": {
   "default_parameters": {},
   "duration": 60.64524,
   "end_time": "2023-07-29T20:50:57.547249",
   "environment_variables": {},
   "exception": null,
   "input_path": "__notebook__.ipynb",
   "output_path": "__notebook__.ipynb",
   "parameters": {},
   "start_time": "2023-07-29T20:49:56.902009",
   "version": "2.4.0"
  }
 },
 "nbformat": 4,
 "nbformat_minor": 5
}
