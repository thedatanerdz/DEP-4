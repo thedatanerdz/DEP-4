{
 "cells": [
  {
   "cell_type": "markdown",
   "id": "6cbe79e4",
   "metadata": {
    "papermill": {
     "duration": 0.006021,
     "end_time": "2023-07-29T04:37:35.382718",
     "exception": false,
     "start_time": "2023-07-29T04:37:35.376697",
     "status": "completed"
    },
    "tags": []
   },
   "source": [
    "#### Pyspark Basic Introduction"
   ]
  },
  {
   "cell_type": "code",
   "execution_count": 1,
   "id": "464c0a8e",
   "metadata": {
    "execution": {
     "iopub.execute_input": "2023-07-29T04:37:35.396111Z",
     "iopub.status.busy": "2023-07-29T04:37:35.395685Z",
     "iopub.status.idle": "2023-07-29T04:38:31.558102Z",
     "shell.execute_reply": "2023-07-29T04:38:31.556596Z"
    },
    "papermill": {
     "duration": 56.172281,
     "end_time": "2023-07-29T04:38:31.561099",
     "exception": false,
     "start_time": "2023-07-29T04:37:35.388818",
     "status": "completed"
    },
    "tags": []
   },
   "outputs": [
    {
     "name": "stdout",
     "output_type": "stream",
     "text": [
      "Collecting pyspark\r\n",
      "  Downloading pyspark-3.4.1.tar.gz (310.8 MB)\r\n",
      "\u001b[2K     \u001b[90m━━━━━━━━━━━━━━━━━━━━━━━━━━━━━━━━━━━━━━━\u001b[0m \u001b[32m310.8/310.8 MB\u001b[0m \u001b[31m3.4 MB/s\u001b[0m eta \u001b[36m0:00:00\u001b[0m\r\n",
      "\u001b[?25h  Preparing metadata (setup.py) ... \u001b[?25l-\b \b\\\b \b|\b \bdone\r\n",
      "\u001b[?25hRequirement already satisfied: py4j==0.10.9.7 in /opt/conda/lib/python3.10/site-packages (from pyspark) (0.10.9.7)\r\n",
      "Building wheels for collected packages: pyspark\r\n",
      "  Building wheel for pyspark (setup.py) ... \u001b[?25l-\b \b\\\b \b|\b \b/\b \b-\b \b\\\b \b|\b \b/\b \b-\b \b\\\b \b|\b \b/\b \b-\b \b\\\b \b|\b \bdone\r\n",
      "\u001b[?25h  Created wheel for pyspark: filename=pyspark-3.4.1-py2.py3-none-any.whl size=311285413 sha256=44b4756a39796dae23ab37187d05ae647266dd3c7bac319c27bdd25e27c1d537\r\n",
      "  Stored in directory: /root/.cache/pip/wheels/0d/77/a3/ff2f74cc9ab41f8f594dabf0579c2a7c6de920d584206e0834\r\n",
      "Successfully built pyspark\r\n",
      "Installing collected packages: pyspark\r\n",
      "Successfully installed pyspark-3.4.1\r\n"
     ]
    }
   ],
   "source": [
    "!pip install pyspark"
   ]
  },
  {
   "cell_type": "code",
   "execution_count": 2,
   "id": "f32297c4",
   "metadata": {
    "execution": {
     "iopub.execute_input": "2023-07-29T04:38:31.597279Z",
     "iopub.status.busy": "2023-07-29T04:38:31.596831Z",
     "iopub.status.idle": "2023-07-29T04:38:31.685161Z",
     "shell.execute_reply": "2023-07-29T04:38:31.684243Z"
    },
    "papermill": {
     "duration": 0.109707,
     "end_time": "2023-07-29T04:38:31.687759",
     "exception": false,
     "start_time": "2023-07-29T04:38:31.578052",
     "status": "completed"
    },
    "tags": []
   },
   "outputs": [],
   "source": [
    "import pyspark"
   ]
  },
  {
   "cell_type": "code",
   "execution_count": 3,
   "id": "0777aa88",
   "metadata": {
    "execution": {
     "iopub.execute_input": "2023-07-29T04:38:31.736217Z",
     "iopub.status.busy": "2023-07-29T04:38:31.735361Z",
     "iopub.status.idle": "2023-07-29T04:38:31.767311Z",
     "shell.execute_reply": "2023-07-29T04:38:31.766400Z"
    },
    "papermill": {
     "duration": 0.060535,
     "end_time": "2023-07-29T04:38:31.771915",
     "exception": false,
     "start_time": "2023-07-29T04:38:31.711380",
     "status": "completed"
    },
    "tags": []
   },
   "outputs": [
    {
     "data": {
      "text/plain": [
       "pandas.core.frame.DataFrame"
      ]
     },
     "execution_count": 3,
     "metadata": {},
     "output_type": "execute_result"
    }
   ],
   "source": [
    "import pandas as pd\n",
    "type(pd.read_csv('/kaggle/input/pyspark-sample/test1.csv'))"
   ]
  },
  {
   "cell_type": "code",
   "execution_count": 4,
   "id": "c904a70d",
   "metadata": {
    "execution": {
     "iopub.execute_input": "2023-07-29T04:38:31.812419Z",
     "iopub.status.busy": "2023-07-29T04:38:31.811980Z",
     "iopub.status.idle": "2023-07-29T04:38:31.816764Z",
     "shell.execute_reply": "2023-07-29T04:38:31.815458Z"
    },
    "papermill": {
     "duration": 0.026126,
     "end_time": "2023-07-29T04:38:31.819309",
     "exception": false,
     "start_time": "2023-07-29T04:38:31.793183",
     "status": "completed"
    },
    "tags": []
   },
   "outputs": [],
   "source": [
    "from pyspark.sql import SparkSession"
   ]
  },
  {
   "cell_type": "code",
   "execution_count": 5,
   "id": "dd14d03c",
   "metadata": {
    "execution": {
     "iopub.execute_input": "2023-07-29T04:38:31.857298Z",
     "iopub.status.busy": "2023-07-29T04:38:31.856354Z",
     "iopub.status.idle": "2023-07-29T04:38:37.969555Z",
     "shell.execute_reply": "2023-07-29T04:38:37.968147Z"
    },
    "papermill": {
     "duration": 6.136905,
     "end_time": "2023-07-29T04:38:37.973860",
     "exception": false,
     "start_time": "2023-07-29T04:38:31.836955",
     "status": "completed"
    },
    "tags": []
   },
   "outputs": [
    {
     "name": "stderr",
     "output_type": "stream",
     "text": [
      "Setting default log level to \"WARN\".\n",
      "To adjust logging level use sc.setLogLevel(newLevel). For SparkR, use setLogLevel(newLevel).\n",
      "23/07/29 04:38:35 WARN NativeCodeLoader: Unable to load native-hadoop library for your platform... using builtin-java classes where applicable\n"
     ]
    }
   ],
   "source": [
    "spark=SparkSession.builder.appName('Practise').getOrCreate()"
   ]
  },
  {
   "cell_type": "code",
   "execution_count": 6,
   "id": "c1ddff4a",
   "metadata": {
    "execution": {
     "iopub.execute_input": "2023-07-29T04:38:38.013857Z",
     "iopub.status.busy": "2023-07-29T04:38:38.012795Z",
     "iopub.status.idle": "2023-07-29T04:38:39.356608Z",
     "shell.execute_reply": "2023-07-29T04:38:39.355747Z"
    },
    "papermill": {
     "duration": 1.36552,
     "end_time": "2023-07-29T04:38:39.358913",
     "exception": false,
     "start_time": "2023-07-29T04:38:37.993393",
     "status": "completed"
    },
    "tags": []
   },
   "outputs": [
    {
     "data": {
      "text/html": [
       "\n",
       "            <div>\n",
       "                <p><b>SparkSession - in-memory</b></p>\n",
       "                \n",
       "        <div>\n",
       "            <p><b>SparkContext</b></p>\n",
       "\n",
       "            <p><a href=\"http://64ea6a24cf39:4040\">Spark UI</a></p>\n",
       "\n",
       "            <dl>\n",
       "              <dt>Version</dt>\n",
       "                <dd><code>v3.4.1</code></dd>\n",
       "              <dt>Master</dt>\n",
       "                <dd><code>local[*]</code></dd>\n",
       "              <dt>AppName</dt>\n",
       "                <dd><code>Practise</code></dd>\n",
       "            </dl>\n",
       "        </div>\n",
       "        \n",
       "            </div>\n",
       "        "
      ],
      "text/plain": [
       "<pyspark.sql.session.SparkSession at 0x7e09daf4e7d0>"
      ]
     },
     "execution_count": 6,
     "metadata": {},
     "output_type": "execute_result"
    }
   ],
   "source": [
    "spark"
   ]
  },
  {
   "cell_type": "code",
   "execution_count": 7,
   "id": "05a88a1e",
   "metadata": {
    "execution": {
     "iopub.execute_input": "2023-07-29T04:38:39.396154Z",
     "iopub.status.busy": "2023-07-29T04:38:39.395484Z",
     "iopub.status.idle": "2023-07-29T04:38:45.473438Z",
     "shell.execute_reply": "2023-07-29T04:38:45.472241Z"
    },
    "papermill": {
     "duration": 6.100619,
     "end_time": "2023-07-29T04:38:45.477172",
     "exception": false,
     "start_time": "2023-07-29T04:38:39.376553",
     "status": "completed"
    },
    "tags": []
   },
   "outputs": [
    {
     "name": "stderr",
     "output_type": "stream",
     "text": [
      "                                                                                \r"
     ]
    }
   ],
   "source": [
    "df_pyspark=spark.read.csv('/kaggle/input/pyspark-sample/test1.csv')"
   ]
  },
  {
   "cell_type": "code",
   "execution_count": 8,
   "id": "1e5b6c44",
   "metadata": {
    "execution": {
     "iopub.execute_input": "2023-07-29T04:38:45.530175Z",
     "iopub.status.busy": "2023-07-29T04:38:45.529656Z",
     "iopub.status.idle": "2023-07-29T04:38:45.949274Z",
     "shell.execute_reply": "2023-07-29T04:38:45.948021Z"
    },
    "papermill": {
     "duration": 0.450427,
     "end_time": "2023-07-29T04:38:45.953034",
     "exception": false,
     "start_time": "2023-07-29T04:38:45.502607",
     "status": "completed"
    },
    "tags": []
   },
   "outputs": [],
   "source": [
    "df_pyspark=spark.read.option('header','true').csv('/kaggle/input/pyspark-sample/test1.csv')"
   ]
  },
  {
   "cell_type": "code",
   "execution_count": 9,
   "id": "4b6cea3a",
   "metadata": {
    "execution": {
     "iopub.execute_input": "2023-07-29T04:38:45.993527Z",
     "iopub.status.busy": "2023-07-29T04:38:45.993016Z",
     "iopub.status.idle": "2023-07-29T04:38:46.001167Z",
     "shell.execute_reply": "2023-07-29T04:38:45.999918Z"
    },
    "papermill": {
     "duration": 0.03013,
     "end_time": "2023-07-29T04:38:46.003738",
     "exception": false,
     "start_time": "2023-07-29T04:38:45.973608",
     "status": "completed"
    },
    "tags": []
   },
   "outputs": [
    {
     "data": {
      "text/plain": [
       "pyspark.sql.dataframe.DataFrame"
      ]
     },
     "execution_count": 9,
     "metadata": {},
     "output_type": "execute_result"
    }
   ],
   "source": [
    "type(df_pyspark)"
   ]
  },
  {
   "cell_type": "code",
   "execution_count": 10,
   "id": "87fe5c1b",
   "metadata": {
    "execution": {
     "iopub.execute_input": "2023-07-29T04:38:46.043944Z",
     "iopub.status.busy": "2023-07-29T04:38:46.042580Z",
     "iopub.status.idle": "2023-07-29T04:38:46.053183Z",
     "shell.execute_reply": "2023-07-29T04:38:46.051598Z"
    },
    "papermill": {
     "duration": 0.033259,
     "end_time": "2023-07-29T04:38:46.055641",
     "exception": false,
     "start_time": "2023-07-29T04:38:46.022382",
     "status": "completed"
    },
    "tags": []
   },
   "outputs": [
    {
     "name": "stdout",
     "output_type": "stream",
     "text": [
      "root\n",
      " |-- Name: string (nullable = true)\n",
      " |-- age: string (nullable = true)\n",
      " |-- Experience: string (nullable = true)\n",
      " |-- Salary: string (nullable = true)\n",
      "\n"
     ]
    }
   ],
   "source": [
    "df_pyspark.printSchema()"
   ]
  },
  {
   "cell_type": "code",
   "execution_count": null,
   "id": "06fa10ca",
   "metadata": {
    "papermill": {
     "duration": 0.018359,
     "end_time": "2023-07-29T04:38:46.093524",
     "exception": false,
     "start_time": "2023-07-29T04:38:46.075165",
     "status": "completed"
    },
    "tags": []
   },
   "outputs": [],
   "source": []
  },
  {
   "cell_type": "code",
   "execution_count": null,
   "id": "731bfe61",
   "metadata": {
    "papermill": {
     "duration": 0.017839,
     "end_time": "2023-07-29T04:38:46.129437",
     "exception": false,
     "start_time": "2023-07-29T04:38:46.111598",
     "status": "completed"
    },
    "tags": []
   },
   "outputs": [],
   "source": []
  },
  {
   "cell_type": "code",
   "execution_count": null,
   "id": "95639777",
   "metadata": {
    "papermill": {
     "duration": 0.017683,
     "end_time": "2023-07-29T04:38:46.165230",
     "exception": false,
     "start_time": "2023-07-29T04:38:46.147547",
     "status": "completed"
    },
    "tags": []
   },
   "outputs": [],
   "source": []
  },
  {
   "cell_type": "code",
   "execution_count": null,
   "id": "38ca8d7f",
   "metadata": {
    "papermill": {
     "duration": 0.017594,
     "end_time": "2023-07-29T04:38:46.200865",
     "exception": false,
     "start_time": "2023-07-29T04:38:46.183271",
     "status": "completed"
    },
    "tags": []
   },
   "outputs": [],
   "source": []
  },
  {
   "cell_type": "code",
   "execution_count": null,
   "id": "ce926b88",
   "metadata": {
    "papermill": {
     "duration": 0.017884,
     "end_time": "2023-07-29T04:38:46.237211",
     "exception": false,
     "start_time": "2023-07-29T04:38:46.219327",
     "status": "completed"
    },
    "tags": []
   },
   "outputs": [],
   "source": []
  }
 ],
 "metadata": {
  "kernelspec": {
   "display_name": "Python 3",
   "language": "python",
   "name": "python3"
  },
  "language_info": {
   "codemirror_mode": {
    "name": "ipython",
    "version": 3
   },
   "file_extension": ".py",
   "mimetype": "text/x-python",
   "name": "python",
   "nbconvert_exporter": "python",
   "pygments_lexer": "ipython3",
   "version": "3.10.12"
  },
  "papermill": {
   "default_parameters": {},
   "duration": 86.021255,
   "end_time": "2023-07-29T04:38:48.877904",
   "environment_variables": {},
   "exception": null,
   "input_path": "__notebook__.ipynb",
   "output_path": "__notebook__.ipynb",
   "parameters": {},
   "start_time": "2023-07-29T04:37:22.856649",
   "version": "2.4.0"
  }
 },
 "nbformat": 4,
 "nbformat_minor": 5
}
