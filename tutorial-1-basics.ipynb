{
 "cells": [
  {
   "cell_type": "markdown",
   "id": "670b748e",
   "metadata": {
    "papermill": {
     "duration": 0.006135,
     "end_time": "2023-07-29T04:44:30.629895",
     "exception": false,
     "start_time": "2023-07-29T04:44:30.623760",
     "status": "completed"
    },
    "tags": []
   },
   "source": [
    "#### Pyspark Basic Introduction"
   ]
  },
  {
   "cell_type": "code",
   "execution_count": 1,
   "id": "f1ce500c",
   "metadata": {
    "execution": {
     "iopub.execute_input": "2023-07-29T04:44:30.643381Z",
     "iopub.status.busy": "2023-07-29T04:44:30.642675Z",
     "iopub.status.idle": "2023-07-29T04:45:25.117999Z",
     "shell.execute_reply": "2023-07-29T04:45:25.116657Z"
    },
    "papermill": {
     "duration": 54.485641,
     "end_time": "2023-07-29T04:45:25.121223",
     "exception": false,
     "start_time": "2023-07-29T04:44:30.635582",
     "status": "completed"
    },
    "tags": []
   },
   "outputs": [
    {
     "name": "stdout",
     "output_type": "stream",
     "text": [
      "Collecting pyspark\r\n",
      "  Downloading pyspark-3.4.1.tar.gz (310.8 MB)\r\n",
      "\u001b[2K     \u001b[90m━━━━━━━━━━━━━━━━━━━━━━━━━━━━━━━━━━━━━━━\u001b[0m \u001b[32m310.8/310.8 MB\u001b[0m \u001b[31m3.1 MB/s\u001b[0m eta \u001b[36m0:00:00\u001b[0m\r\n",
      "\u001b[?25h  Preparing metadata (setup.py) ... \u001b[?25l-\b \b\\\b \b|\b \bdone\r\n",
      "\u001b[?25hRequirement already satisfied: py4j==0.10.9.7 in /opt/conda/lib/python3.10/site-packages (from pyspark) (0.10.9.7)\r\n",
      "Building wheels for collected packages: pyspark\r\n",
      "  Building wheel for pyspark (setup.py) ... \u001b[?25l-\b \b\\\b \b|\b \b/\b \b-\b \b\\\b \b|\b \b/\b \b-\b \b\\\b \b|\b \b/\b \b-\b \b\\\b \b|\b \b/\b \b-\b \bdone\r\n",
      "\u001b[?25h  Created wheel for pyspark: filename=pyspark-3.4.1-py2.py3-none-any.whl size=311285413 sha256=433929a4423cf41fca6213fb648ec162701202a6c34237087f9ba3ef9d389c17\r\n",
      "  Stored in directory: /root/.cache/pip/wheels/0d/77/a3/ff2f74cc9ab41f8f594dabf0579c2a7c6de920d584206e0834\r\n",
      "Successfully built pyspark\r\n",
      "Installing collected packages: pyspark\r\n",
      "Successfully installed pyspark-3.4.1\r\n"
     ]
    }
   ],
   "source": [
    "!pip install pyspark"
   ]
  },
  {
   "cell_type": "code",
   "execution_count": 2,
   "id": "f8a2809f",
   "metadata": {
    "execution": {
     "iopub.execute_input": "2023-07-29T04:45:25.160578Z",
     "iopub.status.busy": "2023-07-29T04:45:25.160128Z",
     "iopub.status.idle": "2023-07-29T04:45:25.249577Z",
     "shell.execute_reply": "2023-07-29T04:45:25.248426Z"
    },
    "papermill": {
     "duration": 0.111728,
     "end_time": "2023-07-29T04:45:25.252484",
     "exception": false,
     "start_time": "2023-07-29T04:45:25.140756",
     "status": "completed"
    },
    "tags": []
   },
   "outputs": [],
   "source": [
    "import pyspark"
   ]
  },
  {
   "cell_type": "code",
   "execution_count": 3,
   "id": "6f86dee1",
   "metadata": {
    "execution": {
     "iopub.execute_input": "2023-07-29T04:45:25.293005Z",
     "iopub.status.busy": "2023-07-29T04:45:25.292598Z",
     "iopub.status.idle": "2023-07-29T04:45:25.319962Z",
     "shell.execute_reply": "2023-07-29T04:45:25.318906Z"
    },
    "papermill": {
     "duration": 0.04907,
     "end_time": "2023-07-29T04:45:25.322422",
     "exception": false,
     "start_time": "2023-07-29T04:45:25.273352",
     "status": "completed"
    },
    "tags": []
   },
   "outputs": [
    {
     "data": {
      "text/plain": [
       "pandas.core.frame.DataFrame"
      ]
     },
     "execution_count": 3,
     "metadata": {},
     "output_type": "execute_result"
    }
   ],
   "source": [
    "import pandas as pd\n",
    "type(pd.read_csv('/kaggle/input/pyspark-sample/test1.csv'))"
   ]
  },
  {
   "cell_type": "code",
   "execution_count": 4,
   "id": "46e60f77",
   "metadata": {
    "execution": {
     "iopub.execute_input": "2023-07-29T04:45:25.359541Z",
     "iopub.status.busy": "2023-07-29T04:45:25.359151Z",
     "iopub.status.idle": "2023-07-29T04:45:25.364302Z",
     "shell.execute_reply": "2023-07-29T04:45:25.363011Z"
    },
    "papermill": {
     "duration": 0.026269,
     "end_time": "2023-07-29T04:45:25.366516",
     "exception": false,
     "start_time": "2023-07-29T04:45:25.340247",
     "status": "completed"
    },
    "tags": []
   },
   "outputs": [],
   "source": [
    "from pyspark.sql import SparkSession"
   ]
  },
  {
   "cell_type": "code",
   "execution_count": 5,
   "id": "a5ec4196",
   "metadata": {
    "execution": {
     "iopub.execute_input": "2023-07-29T04:45:25.403666Z",
     "iopub.status.busy": "2023-07-29T04:45:25.403213Z",
     "iopub.status.idle": "2023-07-29T04:45:31.772469Z",
     "shell.execute_reply": "2023-07-29T04:45:31.771424Z"
    },
    "papermill": {
     "duration": 6.391247,
     "end_time": "2023-07-29T04:45:31.775366",
     "exception": false,
     "start_time": "2023-07-29T04:45:25.384119",
     "status": "completed"
    },
    "tags": []
   },
   "outputs": [
    {
     "name": "stderr",
     "output_type": "stream",
     "text": [
      "Setting default log level to \"WARN\".\n",
      "To adjust logging level use sc.setLogLevel(newLevel). For SparkR, use setLogLevel(newLevel).\n",
      "23/07/29 04:45:29 WARN NativeCodeLoader: Unable to load native-hadoop library for your platform... using builtin-java classes where applicable\n"
     ]
    }
   ],
   "source": [
    "spark=SparkSession.builder.appName('Practise').getOrCreate()"
   ]
  },
  {
   "cell_type": "code",
   "execution_count": 6,
   "id": "e8bef402",
   "metadata": {
    "execution": {
     "iopub.execute_input": "2023-07-29T04:45:31.814882Z",
     "iopub.status.busy": "2023-07-29T04:45:31.813418Z",
     "iopub.status.idle": "2023-07-29T04:45:33.130396Z",
     "shell.execute_reply": "2023-07-29T04:45:33.129545Z"
    },
    "papermill": {
     "duration": 1.33893,
     "end_time": "2023-07-29T04:45:33.132450",
     "exception": false,
     "start_time": "2023-07-29T04:45:31.793520",
     "status": "completed"
    },
    "tags": []
   },
   "outputs": [
    {
     "data": {
      "text/html": [
       "\n",
       "            <div>\n",
       "                <p><b>SparkSession - in-memory</b></p>\n",
       "                \n",
       "        <div>\n",
       "            <p><b>SparkContext</b></p>\n",
       "\n",
       "            <p><a href=\"http://97bc20739e40:4040\">Spark UI</a></p>\n",
       "\n",
       "            <dl>\n",
       "              <dt>Version</dt>\n",
       "                <dd><code>v3.4.1</code></dd>\n",
       "              <dt>Master</dt>\n",
       "                <dd><code>local[*]</code></dd>\n",
       "              <dt>AppName</dt>\n",
       "                <dd><code>Practise</code></dd>\n",
       "            </dl>\n",
       "        </div>\n",
       "        \n",
       "            </div>\n",
       "        "
      ],
      "text/plain": [
       "<pyspark.sql.session.SparkSession at 0x7ea6c3b7e350>"
      ]
     },
     "execution_count": 6,
     "metadata": {},
     "output_type": "execute_result"
    }
   ],
   "source": [
    "spark"
   ]
  },
  {
   "cell_type": "code",
   "execution_count": 7,
   "id": "60b73a7f",
   "metadata": {
    "execution": {
     "iopub.execute_input": "2023-07-29T04:45:33.173871Z",
     "iopub.status.busy": "2023-07-29T04:45:33.173382Z",
     "iopub.status.idle": "2023-07-29T04:45:39.450506Z",
     "shell.execute_reply": "2023-07-29T04:45:39.449642Z"
    },
    "papermill": {
     "duration": 6.302811,
     "end_time": "2023-07-29T04:45:39.453896",
     "exception": false,
     "start_time": "2023-07-29T04:45:33.151085",
     "status": "completed"
    },
    "tags": []
   },
   "outputs": [],
   "source": [
    "df_pyspark=spark.read.csv('/kaggle/input/pyspark-sample/test1.csv')"
   ]
  },
  {
   "cell_type": "code",
   "execution_count": 8,
   "id": "abea8575",
   "metadata": {
    "execution": {
     "iopub.execute_input": "2023-07-29T04:45:39.492384Z",
     "iopub.status.busy": "2023-07-29T04:45:39.492001Z",
     "iopub.status.idle": "2023-07-29T04:45:39.909852Z",
     "shell.execute_reply": "2023-07-29T04:45:39.908712Z"
    },
    "papermill": {
     "duration": 0.440594,
     "end_time": "2023-07-29T04:45:39.913044",
     "exception": false,
     "start_time": "2023-07-29T04:45:39.472450",
     "status": "completed"
    },
    "tags": []
   },
   "outputs": [],
   "source": [
    "df_pyspark=spark.read.option('header','true').csv('/kaggle/input/pyspark-sample/test1.csv')"
   ]
  },
  {
   "cell_type": "code",
   "execution_count": 9,
   "id": "3f3f7283",
   "metadata": {
    "execution": {
     "iopub.execute_input": "2023-07-29T04:45:39.962394Z",
     "iopub.status.busy": "2023-07-29T04:45:39.961490Z",
     "iopub.status.idle": "2023-07-29T04:45:39.968740Z",
     "shell.execute_reply": "2023-07-29T04:45:39.967629Z"
    },
    "papermill": {
     "duration": 0.031645,
     "end_time": "2023-07-29T04:45:39.971427",
     "exception": false,
     "start_time": "2023-07-29T04:45:39.939782",
     "status": "completed"
    },
    "tags": []
   },
   "outputs": [
    {
     "data": {
      "text/plain": [
       "pyspark.sql.dataframe.DataFrame"
      ]
     },
     "execution_count": 9,
     "metadata": {},
     "output_type": "execute_result"
    }
   ],
   "source": [
    "type(df_pyspark)"
   ]
  },
  {
   "cell_type": "code",
   "execution_count": 10,
   "id": "b30cadb1",
   "metadata": {
    "execution": {
     "iopub.execute_input": "2023-07-29T04:45:40.010535Z",
     "iopub.status.busy": "2023-07-29T04:45:40.009667Z",
     "iopub.status.idle": "2023-07-29T04:45:40.018730Z",
     "shell.execute_reply": "2023-07-29T04:45:40.017505Z"
    },
    "papermill": {
     "duration": 0.031289,
     "end_time": "2023-07-29T04:45:40.021212",
     "exception": false,
     "start_time": "2023-07-29T04:45:39.989923",
     "status": "completed"
    },
    "tags": []
   },
   "outputs": [
    {
     "name": "stdout",
     "output_type": "stream",
     "text": [
      "root\n",
      " |-- Name: string (nullable = true)\n",
      " |-- age: string (nullable = true)\n",
      " |-- Experience: string (nullable = true)\n",
      " |-- Salary: string (nullable = true)\n",
      "\n"
     ]
    }
   ],
   "source": [
    "df_pyspark.printSchema()"
   ]
  },
  {
   "cell_type": "code",
   "execution_count": 11,
   "id": "2a23c931",
   "metadata": {
    "execution": {
     "iopub.execute_input": "2023-07-29T04:45:40.060269Z",
     "iopub.status.busy": "2023-07-29T04:45:40.059435Z",
     "iopub.status.idle": "2023-07-29T04:45:40.380583Z",
     "shell.execute_reply": "2023-07-29T04:45:40.379496Z"
    },
    "papermill": {
     "duration": 0.344077,
     "end_time": "2023-07-29T04:45:40.383573",
     "exception": false,
     "start_time": "2023-07-29T04:45:40.039496",
     "status": "completed"
    },
    "tags": []
   },
   "outputs": [
    {
     "data": {
      "text/plain": [
       "[Row(Name='Krish', age='31', Experience='10', Salary='30000'),\n",
       " Row(Name='Sudhanshu', age='30', Experience='8', Salary='25000'),\n",
       " Row(Name='Sunny', age='29', Experience='4', Salary='20000')]"
      ]
     },
     "execution_count": 11,
     "metadata": {},
     "output_type": "execute_result"
    }
   ],
   "source": [
    "df_pyspark.head(3)"
   ]
  },
  {
   "cell_type": "code",
   "execution_count": null,
   "id": "a9b3483d",
   "metadata": {
    "papermill": {
     "duration": 0.018188,
     "end_time": "2023-07-29T04:45:40.423258",
     "exception": false,
     "start_time": "2023-07-29T04:45:40.405070",
     "status": "completed"
    },
    "tags": []
   },
   "outputs": [],
   "source": []
  },
  {
   "cell_type": "code",
   "execution_count": null,
   "id": "6ef919ab",
   "metadata": {
    "papermill": {
     "duration": 0.017939,
     "end_time": "2023-07-29T04:45:40.459888",
     "exception": false,
     "start_time": "2023-07-29T04:45:40.441949",
     "status": "completed"
    },
    "tags": []
   },
   "outputs": [],
   "source": []
  },
  {
   "cell_type": "code",
   "execution_count": null,
   "id": "0159a3eb",
   "metadata": {
    "papermill": {
     "duration": 0.017886,
     "end_time": "2023-07-29T04:45:40.496308",
     "exception": false,
     "start_time": "2023-07-29T04:45:40.478422",
     "status": "completed"
    },
    "tags": []
   },
   "outputs": [],
   "source": []
  },
  {
   "cell_type": "code",
   "execution_count": null,
   "id": "48367720",
   "metadata": {
    "papermill": {
     "duration": 0.017917,
     "end_time": "2023-07-29T04:45:40.532430",
     "exception": false,
     "start_time": "2023-07-29T04:45:40.514513",
     "status": "completed"
    },
    "tags": []
   },
   "outputs": [],
   "source": []
  }
 ],
 "metadata": {
  "kernelspec": {
   "display_name": "Python 3",
   "language": "python",
   "name": "python3"
  },
  "language_info": {
   "codemirror_mode": {
    "name": "ipython",
    "version": 3
   },
   "file_extension": ".py",
   "mimetype": "text/x-python",
   "name": "python",
   "nbconvert_exporter": "python",
   "pygments_lexer": "ipython3",
   "version": "3.10.12"
  },
  "papermill": {
   "default_parameters": {},
   "duration": 84.018761,
   "end_time": "2023-07-29T04:45:43.173086",
   "environment_variables": {},
   "exception": null,
   "input_path": "__notebook__.ipynb",
   "output_path": "__notebook__.ipynb",
   "parameters": {},
   "start_time": "2023-07-29T04:44:19.154325",
   "version": "2.4.0"
  }
 },
 "nbformat": 4,
 "nbformat_minor": 5
}
