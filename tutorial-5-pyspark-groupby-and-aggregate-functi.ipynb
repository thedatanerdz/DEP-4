{
 "cells": [
  {
   "cell_type": "markdown",
   "id": "814d1fc8",
   "metadata": {
    "papermill": {
     "duration": 0.007704,
     "end_time": "2023-07-29T21:02:37.733145",
     "exception": false,
     "start_time": "2023-07-29T21:02:37.725441",
     "status": "completed"
    },
    "tags": []
   },
   "source": [
    "### Pyspark GroupBy And Aggregate Functions"
   ]
  },
  {
   "cell_type": "code",
   "execution_count": 1,
   "id": "dbea2ade",
   "metadata": {
    "execution": {
     "iopub.execute_input": "2023-07-29T21:02:37.749968Z",
     "iopub.status.busy": "2023-07-29T21:02:37.749452Z",
     "iopub.status.idle": "2023-07-29T21:03:31.801568Z",
     "shell.execute_reply": "2023-07-29T21:03:31.800218Z"
    },
    "papermill": {
     "duration": 54.064384,
     "end_time": "2023-07-29T21:03:31.804755",
     "exception": false,
     "start_time": "2023-07-29T21:02:37.740371",
     "status": "completed"
    },
    "tags": []
   },
   "outputs": [
    {
     "name": "stdout",
     "output_type": "stream",
     "text": [
      "Collecting pyspark\r\n",
      "  Downloading pyspark-3.4.1.tar.gz (310.8 MB)\r\n",
      "\u001b[2K     \u001b[90m━━━━━━━━━━━━━━━━━━━━━━━━━━━━━━━━━━━━━━━\u001b[0m \u001b[32m310.8/310.8 MB\u001b[0m \u001b[31m3.5 MB/s\u001b[0m eta \u001b[36m0:00:00\u001b[0m\r\n",
      "\u001b[?25h  Preparing metadata (setup.py) ... \u001b[?25l-\b \b\\\b \b|\b \bdone\r\n",
      "\u001b[?25hRequirement already satisfied: py4j==0.10.9.7 in /opt/conda/lib/python3.10/site-packages (from pyspark) (0.10.9.7)\r\n",
      "Building wheels for collected packages: pyspark\r\n",
      "  Building wheel for pyspark (setup.py) ... \u001b[?25l-\b \b\\\b \b|\b \b/\b \b-\b \b\\\b \b|\b \b/\b \b-\b \b\\\b \b|\b \b/\b \b-\b \b\\\b \bdone\r\n",
      "\u001b[?25h  Created wheel for pyspark: filename=pyspark-3.4.1-py2.py3-none-any.whl size=311285413 sha256=df0d2d74163dc7186a436c69b7801e4d4e0289a479b9c5a0b37917c21ce0ce12\r\n",
      "  Stored in directory: /root/.cache/pip/wheels/0d/77/a3/ff2f74cc9ab41f8f594dabf0579c2a7c6de920d584206e0834\r\n",
      "Successfully built pyspark\r\n",
      "Installing collected packages: pyspark\r\n",
      "Successfully installed pyspark-3.4.1\r\n"
     ]
    }
   ],
   "source": [
    "!pip install pyspark"
   ]
  },
  {
   "cell_type": "code",
   "execution_count": 2,
   "id": "a31a31dc",
   "metadata": {
    "execution": {
     "iopub.execute_input": "2023-07-29T21:03:31.847096Z",
     "iopub.status.busy": "2023-07-29T21:03:31.845516Z",
     "iopub.status.idle": "2023-07-29T21:03:31.946825Z",
     "shell.execute_reply": "2023-07-29T21:03:31.945405Z"
    },
    "papermill": {
     "duration": 0.125689,
     "end_time": "2023-07-29T21:03:31.949984",
     "exception": false,
     "start_time": "2023-07-29T21:03:31.824295",
     "status": "completed"
    },
    "tags": []
   },
   "outputs": [],
   "source": [
    "import pyspark"
   ]
  },
  {
   "cell_type": "code",
   "execution_count": 3,
   "id": "112dabaf",
   "metadata": {
    "execution": {
     "iopub.execute_input": "2023-07-29T21:03:31.992216Z",
     "iopub.status.busy": "2023-07-29T21:03:31.991649Z",
     "iopub.status.idle": "2023-07-29T21:03:31.996811Z",
     "shell.execute_reply": "2023-07-29T21:03:31.995681Z"
    },
    "papermill": {
     "duration": 0.029128,
     "end_time": "2023-07-29T21:03:31.999429",
     "exception": false,
     "start_time": "2023-07-29T21:03:31.970301",
     "status": "completed"
    },
    "tags": []
   },
   "outputs": [],
   "source": [
    "from pyspark.sql import SparkSession"
   ]
  },
  {
   "cell_type": "code",
   "execution_count": 4,
   "id": "9e5816bb",
   "metadata": {
    "execution": {
     "iopub.execute_input": "2023-07-29T21:03:32.040837Z",
     "iopub.status.busy": "2023-07-29T21:03:32.040297Z",
     "iopub.status.idle": "2023-07-29T21:03:38.687967Z",
     "shell.execute_reply": "2023-07-29T21:03:38.686552Z"
    },
    "papermill": {
     "duration": 6.671449,
     "end_time": "2023-07-29T21:03:38.690770",
     "exception": false,
     "start_time": "2023-07-29T21:03:32.019321",
     "status": "completed"
    },
    "tags": []
   },
   "outputs": [
    {
     "name": "stderr",
     "output_type": "stream",
     "text": [
      "Setting default log level to \"WARN\".\n",
      "To adjust logging level use sc.setLogLevel(newLevel). For SparkR, use setLogLevel(newLevel).\n",
      "23/07/29 21:03:36 WARN NativeCodeLoader: Unable to load native-hadoop library for your platform... using builtin-java classes where applicable\n"
     ]
    }
   ],
   "source": [
    "spark=SparkSession.builder.appName('Agg').getOrCreate()"
   ]
  },
  {
   "cell_type": "code",
   "execution_count": 5,
   "id": "7aefe1fa",
   "metadata": {
    "execution": {
     "iopub.execute_input": "2023-07-29T21:03:38.732791Z",
     "iopub.status.busy": "2023-07-29T21:03:38.732213Z",
     "iopub.status.idle": "2023-07-29T21:03:40.089028Z",
     "shell.execute_reply": "2023-07-29T21:03:40.087821Z"
    },
    "papermill": {
     "duration": 1.380796,
     "end_time": "2023-07-29T21:03:40.091431",
     "exception": false,
     "start_time": "2023-07-29T21:03:38.710635",
     "status": "completed"
    },
    "tags": []
   },
   "outputs": [
    {
     "data": {
      "text/html": [
       "\n",
       "            <div>\n",
       "                <p><b>SparkSession - in-memory</b></p>\n",
       "                \n",
       "        <div>\n",
       "            <p><b>SparkContext</b></p>\n",
       "\n",
       "            <p><a href=\"http://2fc55cbc8033:4040\">Spark UI</a></p>\n",
       "\n",
       "            <dl>\n",
       "              <dt>Version</dt>\n",
       "                <dd><code>v3.4.1</code></dd>\n",
       "              <dt>Master</dt>\n",
       "                <dd><code>local[*]</code></dd>\n",
       "              <dt>AppName</dt>\n",
       "                <dd><code>Agg</code></dd>\n",
       "            </dl>\n",
       "        </div>\n",
       "        \n",
       "            </div>\n",
       "        "
      ],
      "text/plain": [
       "<pyspark.sql.session.SparkSession at 0x7b1b43c092a0>"
      ]
     },
     "execution_count": 5,
     "metadata": {},
     "output_type": "execute_result"
    }
   ],
   "source": [
    "spark"
   ]
  },
  {
   "cell_type": "code",
   "execution_count": 6,
   "id": "e9e13c60",
   "metadata": {
    "execution": {
     "iopub.execute_input": "2023-07-29T21:03:40.133373Z",
     "iopub.status.busy": "2023-07-29T21:03:40.132176Z",
     "iopub.status.idle": "2023-07-29T21:03:46.512139Z",
     "shell.execute_reply": "2023-07-29T21:03:46.511142Z"
    },
    "papermill": {
     "duration": 6.405285,
     "end_time": "2023-07-29T21:03:46.516076",
     "exception": false,
     "start_time": "2023-07-29T21:03:40.110791",
     "status": "completed"
    },
    "tags": []
   },
   "outputs": [],
   "source": [
    "df_pyspark=spark.read.csv('/kaggle/input/testdata/test3.csv',header=True,inferSchema=True)"
   ]
  },
  {
   "cell_type": "code",
   "execution_count": 7,
   "id": "a8a86e47",
   "metadata": {
    "execution": {
     "iopub.execute_input": "2023-07-29T21:03:46.577006Z",
     "iopub.status.busy": "2023-07-29T21:03:46.576369Z",
     "iopub.status.idle": "2023-07-29T21:03:46.981298Z",
     "shell.execute_reply": "2023-07-29T21:03:46.979908Z"
    },
    "papermill": {
     "duration": 0.43877,
     "end_time": "2023-07-29T21:03:46.984097",
     "exception": false,
     "start_time": "2023-07-29T21:03:46.545327",
     "status": "completed"
    },
    "tags": []
   },
   "outputs": [
    {
     "name": "stdout",
     "output_type": "stream",
     "text": [
      "+---------+------------+------+\n",
      "|     Name| Departments|salary|\n",
      "+---------+------------+------+\n",
      "|    Krish|Data Science| 10000|\n",
      "|    Krish|         IOT|  5000|\n",
      "|   Mahesh|    Big Data|  4000|\n",
      "|    Krish|    Big Data|  4000|\n",
      "|   Mahesh|Data Science|  3000|\n",
      "|Sudhanshu|Data Science| 20000|\n",
      "|Sudhanshu|         IOT| 10000|\n",
      "|Sudhanshu|    Big Data|  5000|\n",
      "|    Sunny|Data Science| 10000|\n",
      "|    Sunny|    Big Data|  2000|\n",
      "+---------+------------+------+\n",
      "\n"
     ]
    }
   ],
   "source": [
    "df_pyspark.show()"
   ]
  },
  {
   "cell_type": "code",
   "execution_count": 8,
   "id": "f526abe1",
   "metadata": {
    "execution": {
     "iopub.execute_input": "2023-07-29T21:03:47.024948Z",
     "iopub.status.busy": "2023-07-29T21:03:47.024487Z",
     "iopub.status.idle": "2023-07-29T21:03:47.034195Z",
     "shell.execute_reply": "2023-07-29T21:03:47.032789Z"
    },
    "papermill": {
     "duration": 0.032738,
     "end_time": "2023-07-29T21:03:47.036542",
     "exception": false,
     "start_time": "2023-07-29T21:03:47.003804",
     "status": "completed"
    },
    "tags": []
   },
   "outputs": [
    {
     "name": "stdout",
     "output_type": "stream",
     "text": [
      "root\n",
      " |-- Name: string (nullable = true)\n",
      " |-- Departments: string (nullable = true)\n",
      " |-- salary: integer (nullable = true)\n",
      "\n"
     ]
    }
   ],
   "source": [
    "df_pyspark.printSchema()"
   ]
  },
  {
   "cell_type": "code",
   "execution_count": 9,
   "id": "17c04465",
   "metadata": {
    "execution": {
     "iopub.execute_input": "2023-07-29T21:03:47.081806Z",
     "iopub.status.busy": "2023-07-29T21:03:47.080089Z",
     "iopub.status.idle": "2023-07-29T21:03:48.421524Z",
     "shell.execute_reply": "2023-07-29T21:03:48.420134Z"
    },
    "papermill": {
     "duration": 1.369528,
     "end_time": "2023-07-29T21:03:48.425284",
     "exception": false,
     "start_time": "2023-07-29T21:03:47.055756",
     "status": "completed"
    },
    "tags": []
   },
   "outputs": [
    {
     "name": "stdout",
     "output_type": "stream",
     "text": [
      "+---------+-----------+\n",
      "|     Name|sum(salary)|\n",
      "+---------+-----------+\n",
      "|Sudhanshu|      35000|\n",
      "|    Sunny|      12000|\n",
      "|    Krish|      19000|\n",
      "|   Mahesh|       7000|\n",
      "+---------+-----------+\n",
      "\n"
     ]
    }
   ],
   "source": [
    "## Groupby\n",
    "### Grouped to find the maximum salary\n",
    "df_pyspark.groupBy('Name').sum().show()"
   ]
  },
  {
   "cell_type": "code",
   "execution_count": 10,
   "id": "8e58e316",
   "metadata": {
    "execution": {
     "iopub.execute_input": "2023-07-29T21:03:48.477020Z",
     "iopub.status.busy": "2023-07-29T21:03:48.476408Z",
     "iopub.status.idle": "2023-07-29T21:03:49.081255Z",
     "shell.execute_reply": "2023-07-29T21:03:49.079999Z"
    },
    "papermill": {
     "duration": 0.631497,
     "end_time": "2023-07-29T21:03:49.084694",
     "exception": false,
     "start_time": "2023-07-29T21:03:48.453197",
     "status": "completed"
    },
    "tags": []
   },
   "outputs": [
    {
     "name": "stdout",
     "output_type": "stream",
     "text": [
      "+---------+------------------+\n",
      "|     Name|       avg(salary)|\n",
      "+---------+------------------+\n",
      "|Sudhanshu|11666.666666666666|\n",
      "|    Sunny|            6000.0|\n",
      "|    Krish| 6333.333333333333|\n",
      "|   Mahesh|            3500.0|\n",
      "+---------+------------------+\n",
      "\n"
     ]
    }
   ],
   "source": [
    "df_pyspark.groupBy('Name').avg().show()"
   ]
  },
  {
   "cell_type": "code",
   "execution_count": 11,
   "id": "5eeeb0cc",
   "metadata": {
    "execution": {
     "iopub.execute_input": "2023-07-29T21:03:49.146090Z",
     "iopub.status.busy": "2023-07-29T21:03:49.145344Z",
     "iopub.status.idle": "2023-07-29T21:03:49.553324Z",
     "shell.execute_reply": "2023-07-29T21:03:49.552081Z"
    },
    "papermill": {
     "duration": 0.446744,
     "end_time": "2023-07-29T21:03:49.560354",
     "exception": false,
     "start_time": "2023-07-29T21:03:49.113610",
     "status": "completed"
    },
    "tags": []
   },
   "outputs": [
    {
     "name": "stdout",
     "output_type": "stream",
     "text": [
      "+------------+-----------+\n",
      "| Departments|sum(salary)|\n",
      "+------------+-----------+\n",
      "|         IOT|      15000|\n",
      "|    Big Data|      15000|\n",
      "|Data Science|      43000|\n",
      "+------------+-----------+\n",
      "\n"
     ]
    }
   ],
   "source": [
    "### Groupby Departmernts  which gives maximum salary\n",
    "df_pyspark.groupBy('Departments').sum().show()"
   ]
  },
  {
   "cell_type": "code",
   "execution_count": 12,
   "id": "93d7fd3d",
   "metadata": {
    "execution": {
     "iopub.execute_input": "2023-07-29T21:03:49.620618Z",
     "iopub.status.busy": "2023-07-29T21:03:49.620086Z",
     "iopub.status.idle": "2023-07-29T21:03:50.002277Z",
     "shell.execute_reply": "2023-07-29T21:03:50.001011Z"
    },
    "papermill": {
     "duration": 0.41726,
     "end_time": "2023-07-29T21:03:50.006126",
     "exception": false,
     "start_time": "2023-07-29T21:03:49.588866",
     "status": "completed"
    },
    "tags": []
   },
   "outputs": [
    {
     "name": "stdout",
     "output_type": "stream",
     "text": [
      "+------------+-----------+\n",
      "| Departments|avg(salary)|\n",
      "+------------+-----------+\n",
      "|         IOT|     7500.0|\n",
      "|    Big Data|     3750.0|\n",
      "|Data Science|    10750.0|\n",
      "+------------+-----------+\n",
      "\n"
     ]
    }
   ],
   "source": [
    "df_pyspark.groupBy('Departments').mean().show()"
   ]
  },
  {
   "cell_type": "code",
   "execution_count": 13,
   "id": "02b30355",
   "metadata": {
    "execution": {
     "iopub.execute_input": "2023-07-29T21:03:50.067842Z",
     "iopub.status.busy": "2023-07-29T21:03:50.067259Z",
     "iopub.status.idle": "2023-07-29T21:03:50.700465Z",
     "shell.execute_reply": "2023-07-29T21:03:50.698292Z"
    },
    "papermill": {
     "duration": 0.668063,
     "end_time": "2023-07-29T21:03:50.704136",
     "exception": false,
     "start_time": "2023-07-29T21:03:50.036073",
     "status": "completed"
    },
    "tags": []
   },
   "outputs": [
    {
     "name": "stdout",
     "output_type": "stream",
     "text": [
      "+------------+-----+\n",
      "| Departments|count|\n",
      "+------------+-----+\n",
      "|         IOT|    2|\n",
      "|    Big Data|    4|\n",
      "|Data Science|    4|\n",
      "+------------+-----+\n",
      "\n"
     ]
    }
   ],
   "source": [
    "df_pyspark.groupBy('Departments').count().show()"
   ]
  },
  {
   "cell_type": "code",
   "execution_count": 14,
   "id": "0bcbc4d2",
   "metadata": {
    "execution": {
     "iopub.execute_input": "2023-07-29T21:03:50.771605Z",
     "iopub.status.busy": "2023-07-29T21:03:50.770994Z",
     "iopub.status.idle": "2023-07-29T21:03:51.183327Z",
     "shell.execute_reply": "2023-07-29T21:03:51.182094Z"
    },
    "papermill": {
     "duration": 0.448924,
     "end_time": "2023-07-29T21:03:51.187101",
     "exception": false,
     "start_time": "2023-07-29T21:03:50.738177",
     "status": "completed"
    },
    "tags": []
   },
   "outputs": [
    {
     "name": "stdout",
     "output_type": "stream",
     "text": [
      "+-----------+\n",
      "|sum(Salary)|\n",
      "+-----------+\n",
      "|      73000|\n",
      "+-----------+\n",
      "\n"
     ]
    }
   ],
   "source": [
    "df_pyspark.agg({'Salary':'sum'}).show()"
   ]
  },
  {
   "cell_type": "code",
   "execution_count": null,
   "id": "91e02cab",
   "metadata": {
    "papermill": {
     "duration": 0.025138,
     "end_time": "2023-07-29T21:03:51.241956",
     "exception": false,
     "start_time": "2023-07-29T21:03:51.216818",
     "status": "completed"
    },
    "tags": []
   },
   "outputs": [],
   "source": []
  },
  {
   "cell_type": "code",
   "execution_count": null,
   "id": "f1157066",
   "metadata": {
    "papermill": {
     "duration": 0.019619,
     "end_time": "2023-07-29T21:03:51.281693",
     "exception": false,
     "start_time": "2023-07-29T21:03:51.262074",
     "status": "completed"
    },
    "tags": []
   },
   "outputs": [],
   "source": []
  },
  {
   "cell_type": "code",
   "execution_count": null,
   "id": "3bcf6101",
   "metadata": {
    "papermill": {
     "duration": 0.019756,
     "end_time": "2023-07-29T21:03:51.321244",
     "exception": false,
     "start_time": "2023-07-29T21:03:51.301488",
     "status": "completed"
    },
    "tags": []
   },
   "outputs": [],
   "source": []
  },
  {
   "cell_type": "code",
   "execution_count": null,
   "id": "20fc51ee",
   "metadata": {
    "papermill": {
     "duration": 0.019569,
     "end_time": "2023-07-29T21:03:51.360747",
     "exception": false,
     "start_time": "2023-07-29T21:03:51.341178",
     "status": "completed"
    },
    "tags": []
   },
   "outputs": [],
   "source": []
  },
  {
   "cell_type": "code",
   "execution_count": null,
   "id": "de6084d9",
   "metadata": {
    "papermill": {
     "duration": 0.019433,
     "end_time": "2023-07-29T21:03:51.400254",
     "exception": false,
     "start_time": "2023-07-29T21:03:51.380821",
     "status": "completed"
    },
    "tags": []
   },
   "outputs": [],
   "source": []
  },
  {
   "cell_type": "code",
   "execution_count": null,
   "id": "d3739a47",
   "metadata": {
    "papermill": {
     "duration": 0.019502,
     "end_time": "2023-07-29T21:03:51.439668",
     "exception": false,
     "start_time": "2023-07-29T21:03:51.420166",
     "status": "completed"
    },
    "tags": []
   },
   "outputs": [],
   "source": []
  },
  {
   "cell_type": "code",
   "execution_count": null,
   "id": "bde9a27e",
   "metadata": {
    "papermill": {
     "duration": 0.019562,
     "end_time": "2023-07-29T21:03:51.478996",
     "exception": false,
     "start_time": "2023-07-29T21:03:51.459434",
     "status": "completed"
    },
    "tags": []
   },
   "outputs": [],
   "source": []
  }
 ],
 "metadata": {
  "kernelspec": {
   "display_name": "Python 3",
   "language": "python",
   "name": "python3"
  },
  "language_info": {
   "codemirror_mode": {
    "name": "ipython",
    "version": 3
   },
   "file_extension": ".py",
   "mimetype": "text/x-python",
   "name": "python",
   "nbconvert_exporter": "python",
   "pygments_lexer": "ipython3",
   "version": "3.10.12"
  },
  "papermill": {
   "default_parameters": {},
   "duration": 90.299698,
   "end_time": "2023-07-29T21:03:54.120245",
   "environment_variables": {},
   "exception": null,
   "input_path": "__notebook__.ipynb",
   "output_path": "__notebook__.ipynb",
   "parameters": {},
   "start_time": "2023-07-29T21:02:23.820547",
   "version": "2.4.0"
  }
 },
 "nbformat": 4,
 "nbformat_minor": 5
}
