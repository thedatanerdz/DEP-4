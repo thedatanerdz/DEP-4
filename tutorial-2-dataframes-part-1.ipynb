{
 "cells": [
  {
   "cell_type": "markdown",
   "id": "f36f1194",
   "metadata": {
    "papermill": {
     "duration": 0.009379,
     "end_time": "2023-07-29T04:51:31.969686",
     "exception": false,
     "start_time": "2023-07-29T04:51:31.960307",
     "status": "completed"
    },
    "tags": []
   },
   "source": [
    "#### This code covers\n",
    "- PySpark Dataframe \n",
    "- Reading The Dataset\n",
    "- Checking the Datatypes of the Column(Schema)\n",
    "- Selecting Columns And Indexing\n",
    "- Check Describe option similar to Pandas\n",
    "- Adding Columns\n",
    "- Dropping columns\n",
    "- Renaming Columns"
   ]
  },
  {
   "cell_type": "code",
   "execution_count": 1,
   "id": "034999fb",
   "metadata": {
    "execution": {
     "iopub.execute_input": "2023-07-29T04:51:31.990023Z",
     "iopub.status.busy": "2023-07-29T04:51:31.989251Z",
     "iopub.status.idle": "2023-07-29T04:52:23.725715Z",
     "shell.execute_reply": "2023-07-29T04:52:23.724371Z"
    },
    "papermill": {
     "duration": 51.750112,
     "end_time": "2023-07-29T04:52:23.728764",
     "exception": false,
     "start_time": "2023-07-29T04:51:31.978652",
     "status": "completed"
    },
    "tags": []
   },
   "outputs": [
    {
     "name": "stdout",
     "output_type": "stream",
     "text": [
      "Collecting pyspark\r\n",
      "  Downloading pyspark-3.4.1.tar.gz (310.8 MB)\r\n",
      "\u001b[2K     \u001b[90m━━━━━━━━━━━━━━━━━━━━━━━━━━━━━━━━━━━━━━━\u001b[0m \u001b[32m310.8/310.8 MB\u001b[0m \u001b[31m3.5 MB/s\u001b[0m eta \u001b[36m0:00:00\u001b[0m\r\n",
      "\u001b[?25h  Preparing metadata (setup.py) ... \u001b[?25l-\b \b\\\b \b|\b \bdone\r\n",
      "\u001b[?25hRequirement already satisfied: py4j==0.10.9.7 in /opt/conda/lib/python3.10/site-packages (from pyspark) (0.10.9.7)\r\n",
      "Building wheels for collected packages: pyspark\r\n",
      "  Building wheel for pyspark (setup.py) ... \u001b[?25l-\b \b\\\b \b|\b \b/\b \b-\b \b\\\b \b|\b \b/\b \b-\b \b\\\b \b|\b \b/\b \b-\b \b\\\b \bdone\r\n",
      "\u001b[?25h  Created wheel for pyspark: filename=pyspark-3.4.1-py2.py3-none-any.whl size=311285413 sha256=cf19454d859ef8a7c903ddddcc8a7a8781a764e16607979da36a4a8250876139\r\n",
      "  Stored in directory: /root/.cache/pip/wheels/0d/77/a3/ff2f74cc9ab41f8f594dabf0579c2a7c6de920d584206e0834\r\n",
      "Successfully built pyspark\r\n",
      "Installing collected packages: pyspark\r\n",
      "Successfully installed pyspark-3.4.1\r\n"
     ]
    }
   ],
   "source": [
    "!pip install pyspark"
   ]
  },
  {
   "cell_type": "code",
   "execution_count": 2,
   "id": "988da414",
   "metadata": {
    "execution": {
     "iopub.execute_input": "2023-07-29T04:52:23.772348Z",
     "iopub.status.busy": "2023-07-29T04:52:23.771959Z",
     "iopub.status.idle": "2023-07-29T04:52:23.857642Z",
     "shell.execute_reply": "2023-07-29T04:52:23.856662Z"
    },
    "papermill": {
     "duration": 0.111867,
     "end_time": "2023-07-29T04:52:23.860616",
     "exception": false,
     "start_time": "2023-07-29T04:52:23.748749",
     "status": "completed"
    },
    "tags": []
   },
   "outputs": [],
   "source": [
    "import pyspark"
   ]
  },
  {
   "cell_type": "code",
   "execution_count": 3,
   "id": "7bf4c536",
   "metadata": {
    "execution": {
     "iopub.execute_input": "2023-07-29T04:52:23.903069Z",
     "iopub.status.busy": "2023-07-29T04:52:23.902663Z",
     "iopub.status.idle": "2023-07-29T04:52:23.907708Z",
     "shell.execute_reply": "2023-07-29T04:52:23.906549Z"
    },
    "papermill": {
     "duration": 0.028747,
     "end_time": "2023-07-29T04:52:23.910051",
     "exception": false,
     "start_time": "2023-07-29T04:52:23.881304",
     "status": "completed"
    },
    "tags": []
   },
   "outputs": [],
   "source": [
    "from pyspark.sql import SparkSession"
   ]
  },
  {
   "cell_type": "code",
   "execution_count": 4,
   "id": "7f9d5fd6",
   "metadata": {
    "execution": {
     "iopub.execute_input": "2023-07-29T04:52:23.951318Z",
     "iopub.status.busy": "2023-07-29T04:52:23.950929Z",
     "iopub.status.idle": "2023-07-29T04:52:29.865485Z",
     "shell.execute_reply": "2023-07-29T04:52:29.864383Z"
    },
    "papermill": {
     "duration": 5.939062,
     "end_time": "2023-07-29T04:52:29.868852",
     "exception": false,
     "start_time": "2023-07-29T04:52:23.929790",
     "status": "completed"
    },
    "tags": []
   },
   "outputs": [
    {
     "name": "stderr",
     "output_type": "stream",
     "text": [
      "Setting default log level to \"WARN\".\n",
      "To adjust logging level use sc.setLogLevel(newLevel). For SparkR, use setLogLevel(newLevel).\n",
      "23/07/29 04:52:27 WARN NativeCodeLoader: Unable to load native-hadoop library for your platform... using builtin-java classes where applicable\n"
     ]
    }
   ],
   "source": [
    "spark=SparkSession.builder.appName('Dataframe').getOrCreate()"
   ]
  },
  {
   "cell_type": "code",
   "execution_count": 5,
   "id": "3b91dd1d",
   "metadata": {
    "execution": {
     "iopub.execute_input": "2023-07-29T04:52:29.916936Z",
     "iopub.status.busy": "2023-07-29T04:52:29.916029Z",
     "iopub.status.idle": "2023-07-29T04:52:31.310057Z",
     "shell.execute_reply": "2023-07-29T04:52:31.308885Z"
    },
    "papermill": {
     "duration": 1.419852,
     "end_time": "2023-07-29T04:52:31.313077",
     "exception": false,
     "start_time": "2023-07-29T04:52:29.893225",
     "status": "completed"
    },
    "tags": []
   },
   "outputs": [
    {
     "data": {
      "text/html": [
       "\n",
       "            <div>\n",
       "                <p><b>SparkSession - in-memory</b></p>\n",
       "                \n",
       "        <div>\n",
       "            <p><b>SparkContext</b></p>\n",
       "\n",
       "            <p><a href=\"http://50e69101681b:4040\">Spark UI</a></p>\n",
       "\n",
       "            <dl>\n",
       "              <dt>Version</dt>\n",
       "                <dd><code>v3.4.1</code></dd>\n",
       "              <dt>Master</dt>\n",
       "                <dd><code>local[*]</code></dd>\n",
       "              <dt>AppName</dt>\n",
       "                <dd><code>Dataframe</code></dd>\n",
       "            </dl>\n",
       "        </div>\n",
       "        \n",
       "            </div>\n",
       "        "
      ],
      "text/plain": [
       "<pyspark.sql.session.SparkSession at 0x7fc0d5290400>"
      ]
     },
     "execution_count": 5,
     "metadata": {},
     "output_type": "execute_result"
    }
   ],
   "source": [
    "spark"
   ]
  },
  {
   "cell_type": "code",
   "execution_count": 6,
   "id": "840c3908",
   "metadata": {
    "execution": {
     "iopub.execute_input": "2023-07-29T04:52:31.362961Z",
     "iopub.status.busy": "2023-07-29T04:52:31.362459Z",
     "iopub.status.idle": "2023-07-29T04:52:37.244409Z",
     "shell.execute_reply": "2023-07-29T04:52:37.243269Z"
    },
    "papermill": {
     "duration": 5.912947,
     "end_time": "2023-07-29T04:52:37.247909",
     "exception": false,
     "start_time": "2023-07-29T04:52:31.334962",
     "status": "completed"
    },
    "tags": []
   },
   "outputs": [],
   "source": [
    "## read the dataset\n",
    "df_pyspark=spark.read.option('header','true').csv('/kaggle/input/pyspark-sample/test1.csv',inferSchema=True)"
   ]
  },
  {
   "cell_type": "code",
   "execution_count": 7,
   "id": "21c8f5c3",
   "metadata": {
    "execution": {
     "iopub.execute_input": "2023-07-29T04:52:37.308204Z",
     "iopub.status.busy": "2023-07-29T04:52:37.307349Z",
     "iopub.status.idle": "2023-07-29T04:52:37.316721Z",
     "shell.execute_reply": "2023-07-29T04:52:37.315656Z"
    },
    "papermill": {
     "duration": 0.043485,
     "end_time": "2023-07-29T04:52:37.320009",
     "exception": false,
     "start_time": "2023-07-29T04:52:37.276524",
     "status": "completed"
    },
    "tags": []
   },
   "outputs": [
    {
     "name": "stdout",
     "output_type": "stream",
     "text": [
      "root\n",
      " |-- Name: string (nullable = true)\n",
      " |-- age: integer (nullable = true)\n",
      " |-- Experience: integer (nullable = true)\n",
      " |-- Salary: integer (nullable = true)\n",
      "\n"
     ]
    }
   ],
   "source": [
    "### Check the schema\n",
    "df_pyspark.printSchema()"
   ]
  },
  {
   "cell_type": "code",
   "execution_count": 8,
   "id": "c5823dda",
   "metadata": {
    "execution": {
     "iopub.execute_input": "2023-07-29T04:52:37.383823Z",
     "iopub.status.busy": "2023-07-29T04:52:37.382751Z",
     "iopub.status.idle": "2023-07-29T04:52:38.226518Z",
     "shell.execute_reply": "2023-07-29T04:52:38.225434Z"
    },
    "papermill": {
     "duration": 0.880462,
     "end_time": "2023-07-29T04:52:38.230562",
     "exception": false,
     "start_time": "2023-07-29T04:52:37.350100",
     "status": "completed"
    },
    "tags": []
   },
   "outputs": [
    {
     "name": "stdout",
     "output_type": "stream",
     "text": [
      "+---------+---+----------+------+\n",
      "|     Name|age|Experience|Salary|\n",
      "+---------+---+----------+------+\n",
      "|    Krish| 31|        10| 30000|\n",
      "|Sudhanshu| 30|         8| 25000|\n",
      "|    Sunny| 29|         4| 20000|\n",
      "|     Paul| 24|         3| 20000|\n",
      "|   Harsha| 21|         1| 15000|\n",
      "|  Shubham| 23|         2| 18000|\n",
      "+---------+---+----------+------+\n",
      "\n"
     ]
    }
   ],
   "source": [
    "df_pyspark=spark.read.csv('/kaggle/input/pyspark-sample/test1.csv',header=True,inferSchema=True)\n",
    "df_pyspark.show()"
   ]
  },
  {
   "cell_type": "code",
   "execution_count": 9,
   "id": "6f440d2d",
   "metadata": {
    "execution": {
     "iopub.execute_input": "2023-07-29T04:52:38.275886Z",
     "iopub.status.busy": "2023-07-29T04:52:38.275361Z",
     "iopub.status.idle": "2023-07-29T04:52:38.283448Z",
     "shell.execute_reply": "2023-07-29T04:52:38.281981Z"
    },
    "papermill": {
     "duration": 0.032911,
     "end_time": "2023-07-29T04:52:38.286250",
     "exception": false,
     "start_time": "2023-07-29T04:52:38.253339",
     "status": "completed"
    },
    "tags": []
   },
   "outputs": [
    {
     "name": "stdout",
     "output_type": "stream",
     "text": [
      "root\n",
      " |-- Name: string (nullable = true)\n",
      " |-- age: integer (nullable = true)\n",
      " |-- Experience: integer (nullable = true)\n",
      " |-- Salary: integer (nullable = true)\n",
      "\n"
     ]
    }
   ],
   "source": [
    "### Check the schema\n",
    "df_pyspark.printSchema()"
   ]
  },
  {
   "cell_type": "code",
   "execution_count": 10,
   "id": "fa48d65d",
   "metadata": {
    "execution": {
     "iopub.execute_input": "2023-07-29T04:52:38.349141Z",
     "iopub.status.busy": "2023-07-29T04:52:38.348209Z",
     "iopub.status.idle": "2023-07-29T04:52:38.355643Z",
     "shell.execute_reply": "2023-07-29T04:52:38.354786Z"
    },
    "papermill": {
     "duration": 0.042303,
     "end_time": "2023-07-29T04:52:38.358422",
     "exception": false,
     "start_time": "2023-07-29T04:52:38.316119",
     "status": "completed"
    },
    "tags": []
   },
   "outputs": [
    {
     "data": {
      "text/plain": [
       "pyspark.sql.dataframe.DataFrame"
      ]
     },
     "execution_count": 10,
     "metadata": {},
     "output_type": "execute_result"
    }
   ],
   "source": [
    "type(df_pyspark)"
   ]
  },
  {
   "cell_type": "code",
   "execution_count": 11,
   "id": "0667a6d5",
   "metadata": {
    "execution": {
     "iopub.execute_input": "2023-07-29T04:52:38.405921Z",
     "iopub.status.busy": "2023-07-29T04:52:38.405183Z",
     "iopub.status.idle": "2023-07-29T04:52:38.583938Z",
     "shell.execute_reply": "2023-07-29T04:52:38.583047Z"
    },
    "papermill": {
     "duration": 0.205007,
     "end_time": "2023-07-29T04:52:38.587125",
     "exception": false,
     "start_time": "2023-07-29T04:52:38.382118",
     "status": "completed"
    },
    "tags": []
   },
   "outputs": [
    {
     "data": {
      "text/plain": [
       "[Row(Name='Krish', age=31, Experience=10, Salary=30000),\n",
       " Row(Name='Sudhanshu', age=30, Experience=8, Salary=25000),\n",
       " Row(Name='Sunny', age=29, Experience=4, Salary=20000)]"
      ]
     },
     "execution_count": 11,
     "metadata": {},
     "output_type": "execute_result"
    }
   ],
   "source": [
    "df_pyspark.head(3)"
   ]
  },
  {
   "cell_type": "code",
   "execution_count": 12,
   "id": "97479755",
   "metadata": {
    "execution": {
     "iopub.execute_input": "2023-07-29T04:52:38.634750Z",
     "iopub.status.busy": "2023-07-29T04:52:38.634390Z",
     "iopub.status.idle": "2023-07-29T04:52:38.813285Z",
     "shell.execute_reply": "2023-07-29T04:52:38.812083Z"
    },
    "papermill": {
     "duration": 0.204279,
     "end_time": "2023-07-29T04:52:38.816253",
     "exception": false,
     "start_time": "2023-07-29T04:52:38.611974",
     "status": "completed"
    },
    "tags": []
   },
   "outputs": [
    {
     "name": "stdout",
     "output_type": "stream",
     "text": [
      "+---------+---+----------+------+\n",
      "|     Name|age|Experience|Salary|\n",
      "+---------+---+----------+------+\n",
      "|    Krish| 31|        10| 30000|\n",
      "|Sudhanshu| 30|         8| 25000|\n",
      "|    Sunny| 29|         4| 20000|\n",
      "|     Paul| 24|         3| 20000|\n",
      "|   Harsha| 21|         1| 15000|\n",
      "|  Shubham| 23|         2| 18000|\n",
      "+---------+---+----------+------+\n",
      "\n"
     ]
    }
   ],
   "source": [
    "df_pyspark.show()"
   ]
  },
  {
   "cell_type": "code",
   "execution_count": 13,
   "id": "ef891cb5",
   "metadata": {
    "execution": {
     "iopub.execute_input": "2023-07-29T04:52:38.877944Z",
     "iopub.status.busy": "2023-07-29T04:52:38.877110Z",
     "iopub.status.idle": "2023-07-29T04:52:39.131018Z",
     "shell.execute_reply": "2023-07-29T04:52:39.129756Z"
    },
    "papermill": {
     "duration": 0.287777,
     "end_time": "2023-07-29T04:52:39.133699",
     "exception": false,
     "start_time": "2023-07-29T04:52:38.845922",
     "status": "completed"
    },
    "tags": []
   },
   "outputs": [
    {
     "name": "stdout",
     "output_type": "stream",
     "text": [
      "+---------+----------+\n",
      "|     Name|Experience|\n",
      "+---------+----------+\n",
      "|    Krish|        10|\n",
      "|Sudhanshu|         8|\n",
      "|    Sunny|         4|\n",
      "|     Paul|         3|\n",
      "|   Harsha|         1|\n",
      "|  Shubham|         2|\n",
      "+---------+----------+\n",
      "\n"
     ]
    }
   ],
   "source": [
    "df_pyspark.select(['Name','Experience']).show()"
   ]
  },
  {
   "cell_type": "code",
   "execution_count": 14,
   "id": "b3283e8f",
   "metadata": {
    "execution": {
     "iopub.execute_input": "2023-07-29T04:52:39.183166Z",
     "iopub.status.busy": "2023-07-29T04:52:39.182049Z",
     "iopub.status.idle": "2023-07-29T04:52:39.201692Z",
     "shell.execute_reply": "2023-07-29T04:52:39.200878Z"
    },
    "papermill": {
     "duration": 0.048465,
     "end_time": "2023-07-29T04:52:39.203795",
     "exception": false,
     "start_time": "2023-07-29T04:52:39.155330",
     "status": "completed"
    },
    "tags": []
   },
   "outputs": [
    {
     "data": {
      "text/plain": [
       "Column<'Name'>"
      ]
     },
     "execution_count": 14,
     "metadata": {},
     "output_type": "execute_result"
    }
   ],
   "source": [
    "df_pyspark['Name']"
   ]
  },
  {
   "cell_type": "code",
   "execution_count": 15,
   "id": "ba7a26ea",
   "metadata": {
    "execution": {
     "iopub.execute_input": "2023-07-29T04:52:39.248221Z",
     "iopub.status.busy": "2023-07-29T04:52:39.247293Z",
     "iopub.status.idle": "2023-07-29T04:52:39.255705Z",
     "shell.execute_reply": "2023-07-29T04:52:39.254964Z"
    },
    "papermill": {
     "duration": 0.03298,
     "end_time": "2023-07-29T04:52:39.257901",
     "exception": false,
     "start_time": "2023-07-29T04:52:39.224921",
     "status": "completed"
    },
    "tags": []
   },
   "outputs": [
    {
     "data": {
      "text/plain": [
       "[('Name', 'string'), ('age', 'int'), ('Experience', 'int'), ('Salary', 'int')]"
      ]
     },
     "execution_count": 15,
     "metadata": {},
     "output_type": "execute_result"
    }
   ],
   "source": [
    "df_pyspark.dtypes"
   ]
  },
  {
   "cell_type": "code",
   "execution_count": 16,
   "id": "131c9416",
   "metadata": {
    "execution": {
     "iopub.execute_input": "2023-07-29T04:52:39.302642Z",
     "iopub.status.busy": "2023-07-29T04:52:39.301533Z",
     "iopub.status.idle": "2023-07-29T04:52:41.277944Z",
     "shell.execute_reply": "2023-07-29T04:52:41.276685Z"
    },
    "papermill": {
     "duration": 2.003894,
     "end_time": "2023-07-29T04:52:41.283060",
     "exception": false,
     "start_time": "2023-07-29T04:52:39.279166",
     "status": "completed"
    },
    "tags": []
   },
   "outputs": [
    {
     "name": "stderr",
     "output_type": "stream",
     "text": [
      "23/07/29 04:52:39 WARN package: Truncated the string representation of a plan since it was too large. This behavior can be adjusted by setting 'spark.sql.debug.maxToStringFields'.\n",
      "[Stage 8:>                                                          (0 + 1) / 1]\r"
     ]
    },
    {
     "name": "stdout",
     "output_type": "stream",
     "text": [
      "+-------+------+------------------+-----------------+------------------+\n",
      "|summary|  Name|               age|       Experience|            Salary|\n",
      "+-------+------+------------------+-----------------+------------------+\n",
      "|  count|     6|                 6|                6|                 6|\n",
      "|   mean|  null|26.333333333333332|4.666666666666667|21333.333333333332|\n",
      "| stddev|  null| 4.179314138308661|3.559026084010437| 5354.126134736337|\n",
      "|    min|Harsha|                21|                1|             15000|\n",
      "|    max| Sunny|                31|               10|             30000|\n",
      "+-------+------+------------------+-----------------+------------------+\n",
      "\n"
     ]
    },
    {
     "name": "stderr",
     "output_type": "stream",
     "text": [
      "                                                                                \r"
     ]
    }
   ],
   "source": [
    "df_pyspark.describe().show()"
   ]
  },
  {
   "cell_type": "code",
   "execution_count": 17,
   "id": "ccdac7bf",
   "metadata": {
    "execution": {
     "iopub.execute_input": "2023-07-29T04:52:41.350296Z",
     "iopub.status.busy": "2023-07-29T04:52:41.349899Z",
     "iopub.status.idle": "2023-07-29T04:52:41.387056Z",
     "shell.execute_reply": "2023-07-29T04:52:41.385904Z"
    },
    "papermill": {
     "duration": 0.075148,
     "end_time": "2023-07-29T04:52:41.390559",
     "exception": false,
     "start_time": "2023-07-29T04:52:41.315411",
     "status": "completed"
    },
    "tags": []
   },
   "outputs": [],
   "source": [
    "### Adding Columns in data frame\n",
    "df_pyspark=df_pyspark.withColumn('Experience After 2 year',df_pyspark['Experience']+2)"
   ]
  },
  {
   "cell_type": "code",
   "execution_count": 18,
   "id": "4634b4c2",
   "metadata": {
    "execution": {
     "iopub.execute_input": "2023-07-29T04:52:41.440601Z",
     "iopub.status.busy": "2023-07-29T04:52:41.440239Z",
     "iopub.status.idle": "2023-07-29T04:52:41.601852Z",
     "shell.execute_reply": "2023-07-29T04:52:41.600683Z"
    },
    "papermill": {
     "duration": 0.187166,
     "end_time": "2023-07-29T04:52:41.604448",
     "exception": false,
     "start_time": "2023-07-29T04:52:41.417282",
     "status": "completed"
    },
    "tags": []
   },
   "outputs": [
    {
     "name": "stdout",
     "output_type": "stream",
     "text": [
      "+---------+---+----------+------+-----------------------+\n",
      "|     Name|age|Experience|Salary|Experience After 2 year|\n",
      "+---------+---+----------+------+-----------------------+\n",
      "|    Krish| 31|        10| 30000|                     12|\n",
      "|Sudhanshu| 30|         8| 25000|                     10|\n",
      "|    Sunny| 29|         4| 20000|                      6|\n",
      "|     Paul| 24|         3| 20000|                      5|\n",
      "|   Harsha| 21|         1| 15000|                      3|\n",
      "|  Shubham| 23|         2| 18000|                      4|\n",
      "+---------+---+----------+------+-----------------------+\n",
      "\n"
     ]
    }
   ],
   "source": [
    "df_pyspark.show()"
   ]
  },
  {
   "cell_type": "code",
   "execution_count": 19,
   "id": "3ca3a597",
   "metadata": {
    "execution": {
     "iopub.execute_input": "2023-07-29T04:52:41.651594Z",
     "iopub.status.busy": "2023-07-29T04:52:41.651110Z",
     "iopub.status.idle": "2023-07-29T04:52:41.669573Z",
     "shell.execute_reply": "2023-07-29T04:52:41.668248Z"
    },
    "papermill": {
     "duration": 0.045118,
     "end_time": "2023-07-29T04:52:41.672852",
     "exception": false,
     "start_time": "2023-07-29T04:52:41.627734",
     "status": "completed"
    },
    "tags": []
   },
   "outputs": [],
   "source": [
    "### Drop the columns\n",
    "df_pyspark=df_pyspark.drop('Experience After 2 year')"
   ]
  },
  {
   "cell_type": "code",
   "execution_count": 20,
   "id": "f5d1c414",
   "metadata": {
    "execution": {
     "iopub.execute_input": "2023-07-29T04:52:41.737133Z",
     "iopub.status.busy": "2023-07-29T04:52:41.736714Z",
     "iopub.status.idle": "2023-07-29T04:52:41.864124Z",
     "shell.execute_reply": "2023-07-29T04:52:41.863005Z"
    },
    "papermill": {
     "duration": 0.162321,
     "end_time": "2023-07-29T04:52:41.867373",
     "exception": false,
     "start_time": "2023-07-29T04:52:41.705052",
     "status": "completed"
    },
    "tags": []
   },
   "outputs": [
    {
     "name": "stdout",
     "output_type": "stream",
     "text": [
      "+---------+---+----------+------+\n",
      "|     Name|age|Experience|Salary|\n",
      "+---------+---+----------+------+\n",
      "|    Krish| 31|        10| 30000|\n",
      "|Sudhanshu| 30|         8| 25000|\n",
      "|    Sunny| 29|         4| 20000|\n",
      "|     Paul| 24|         3| 20000|\n",
      "|   Harsha| 21|         1| 15000|\n",
      "|  Shubham| 23|         2| 18000|\n",
      "+---------+---+----------+------+\n",
      "\n"
     ]
    }
   ],
   "source": [
    "df_pyspark.show()"
   ]
  },
  {
   "cell_type": "code",
   "execution_count": 21,
   "id": "392e5ceb",
   "metadata": {
    "execution": {
     "iopub.execute_input": "2023-07-29T04:52:41.930626Z",
     "iopub.status.busy": "2023-07-29T04:52:41.930158Z",
     "iopub.status.idle": "2023-07-29T04:52:42.063639Z",
     "shell.execute_reply": "2023-07-29T04:52:42.062350Z"
    },
    "papermill": {
     "duration": 0.163996,
     "end_time": "2023-07-29T04:52:42.066412",
     "exception": false,
     "start_time": "2023-07-29T04:52:41.902416",
     "status": "completed"
    },
    "tags": []
   },
   "outputs": [
    {
     "name": "stdout",
     "output_type": "stream",
     "text": [
      "+---------+---+----------+------+\n",
      "| New Name|age|Experience|Salary|\n",
      "+---------+---+----------+------+\n",
      "|    Krish| 31|        10| 30000|\n",
      "|Sudhanshu| 30|         8| 25000|\n",
      "|    Sunny| 29|         4| 20000|\n",
      "|     Paul| 24|         3| 20000|\n",
      "|   Harsha| 21|         1| 15000|\n",
      "|  Shubham| 23|         2| 18000|\n",
      "+---------+---+----------+------+\n",
      "\n"
     ]
    }
   ],
   "source": [
    "### Rename the columns\n",
    "df_pyspark.withColumnRenamed('Name','New Name').show()"
   ]
  },
  {
   "cell_type": "code",
   "execution_count": null,
   "id": "c329b293",
   "metadata": {
    "papermill": {
     "duration": 0.03131,
     "end_time": "2023-07-29T04:52:42.129083",
     "exception": false,
     "start_time": "2023-07-29T04:52:42.097773",
     "status": "completed"
    },
    "tags": []
   },
   "outputs": [],
   "source": []
  },
  {
   "cell_type": "code",
   "execution_count": null,
   "id": "72c75c72",
   "metadata": {
    "papermill": {
     "duration": 0.030907,
     "end_time": "2023-07-29T04:52:42.190855",
     "exception": false,
     "start_time": "2023-07-29T04:52:42.159948",
     "status": "completed"
    },
    "tags": []
   },
   "outputs": [],
   "source": []
  },
  {
   "cell_type": "code",
   "execution_count": null,
   "id": "02294241",
   "metadata": {
    "papermill": {
     "duration": 0.030753,
     "end_time": "2023-07-29T04:52:42.253330",
     "exception": false,
     "start_time": "2023-07-29T04:52:42.222577",
     "status": "completed"
    },
    "tags": []
   },
   "outputs": [],
   "source": []
  },
  {
   "cell_type": "code",
   "execution_count": null,
   "id": "4c158000",
   "metadata": {
    "papermill": {
     "duration": 0.028927,
     "end_time": "2023-07-29T04:52:42.313518",
     "exception": false,
     "start_time": "2023-07-29T04:52:42.284591",
     "status": "completed"
    },
    "tags": []
   },
   "outputs": [],
   "source": []
  },
  {
   "cell_type": "code",
   "execution_count": null,
   "id": "99cbbc1f",
   "metadata": {
    "papermill": {
     "duration": 0.021759,
     "end_time": "2023-07-29T04:52:42.358100",
     "exception": false,
     "start_time": "2023-07-29T04:52:42.336341",
     "status": "completed"
    },
    "tags": []
   },
   "outputs": [],
   "source": []
  },
  {
   "cell_type": "code",
   "execution_count": null,
   "id": "9b875797",
   "metadata": {
    "papermill": {
     "duration": 0.021641,
     "end_time": "2023-07-29T04:52:42.402005",
     "exception": false,
     "start_time": "2023-07-29T04:52:42.380364",
     "status": "completed"
    },
    "tags": []
   },
   "outputs": [],
   "source": []
  }
 ],
 "metadata": {
  "kernelspec": {
   "display_name": "Python 3",
   "language": "python",
   "name": "python3"
  },
  "language_info": {
   "codemirror_mode": {
    "name": "ipython",
    "version": 3
   },
   "file_extension": ".py",
   "mimetype": "text/x-python",
   "name": "python",
   "nbconvert_exporter": "python",
   "pygments_lexer": "ipython3",
   "version": "3.10.12"
  },
  "papermill": {
   "default_parameters": {},
   "duration": 84.073892,
   "end_time": "2023-07-29T04:52:45.045625",
   "environment_variables": {},
   "exception": null,
   "input_path": "__notebook__.ipynb",
   "output_path": "__notebook__.ipynb",
   "parameters": {},
   "start_time": "2023-07-29T04:51:20.971733",
   "version": "2.4.0"
  }
 },
 "nbformat": 4,
 "nbformat_minor": 5
}
